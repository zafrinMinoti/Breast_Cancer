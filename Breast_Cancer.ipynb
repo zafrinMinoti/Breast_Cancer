{
 "cells": [
  {
   "cell_type": "code",
   "execution_count": 1,
   "metadata": {
    "collapsed": true
   },
   "outputs": [],
   "source": [
    "from sklearn.datasets import load_breast_cancer\n",
    "\n",
    "import pandas as pd\n",
    "import numpy as np\n",
    "import matplotlib.pyplot as plt\n",
    "%matplotlib inline"
   ]
  },
  {
   "cell_type": "code",
   "execution_count": 14,
   "metadata": {
    "collapsed": true
   },
   "outputs": [],
   "source": [
    "# Breast Cancer dataset\n",
    "bc = load_breast_cancer()"
   ]
  },
  {
   "cell_type": "code",
   "execution_count": 15,
   "metadata": {},
   "outputs": [
    {
     "data": {
      "text/plain": [
       "array(['mean radius', 'mean texture', 'mean perimeter', 'mean area',\n",
       "       'mean smoothness', 'mean compactness', 'mean concavity',\n",
       "       'mean concave points', 'mean symmetry', 'mean fractal dimension',\n",
       "       'radius error', 'texture error', 'perimeter error', 'area error',\n",
       "       'smoothness error', 'compactness error', 'concavity error',\n",
       "       'concave points error', 'symmetry error', 'fractal dimension error',\n",
       "       'worst radius', 'worst texture', 'worst perimeter', 'worst area',\n",
       "       'worst smoothness', 'worst compactness', 'worst concavity',\n",
       "       'worst concave points', 'worst symmetry', 'worst fractal dimension'],\n",
       "      dtype='<U23')"
      ]
     },
     "execution_count": 15,
     "metadata": {},
     "output_type": "execute_result"
    }
   ],
   "source": [
    "bc.feature_names"
   ]
  },
  {
   "cell_type": "raw",
   "metadata": {},
   "source": [
    "bc = pd.DataFrame(bc_raw.data)\n",
    "bc.head()"
   ]
  },
  {
   "cell_type": "code",
   "execution_count": 23,
   "metadata": {},
   "outputs": [],
   "source": [
    "from sklearn.model_selection import train_test_split\n",
    "X_train, X_test, y_train, y_test = train_test_split(\n",
    "    bc.data, bc.target, test_size=0.33, random_state=0)"
   ]
  },
  {
   "cell_type": "code",
   "execution_count": 24,
   "metadata": {},
   "outputs": [
    {
     "name": "stdout",
     "output_type": "stream",
     "text": [
      "mean radius 0.00886435164576\n",
      "mean texture 0.0134590040904\n",
      "mean perimeter 0.0250307027928\n",
      "mean area 0.0107840940594\n",
      "mean smoothness 0.00328170016452\n",
      "mean compactness 0.00392455874327\n",
      "mean concavity 0.057874746527\n",
      "mean concave points 0.202834215946\n",
      "mean symmetry 0.00367935683118\n",
      "mean fractal dimension 0.00238808163768\n",
      "radius error 0.00731112409401\n",
      "texture error 0.00362972829377\n",
      "perimeter error 0.00587011307935\n",
      "area error 0.0270768687283\n",
      "smoothness error 0.00322745535683\n",
      "compactness error 0.0034760681177\n",
      "concavity error 0.00483294386317\n",
      "concave points error 0.00378381284719\n",
      "symmetry error 0.00282385720463\n",
      "fractal dimension error 0.00481063064988\n",
      "worst radius 0.0711697748017\n",
      "worst texture 0.0144591769076\n",
      "worst perimeter 0.154519678422\n",
      "worst area 0.0782490763347\n",
      "worst smoothness 0.00719256967885\n",
      "worst compactness 0.0138594891733\n",
      "worst concavity 0.0207914873455\n",
      "worst concave points 0.225555179618\n",
      "worst symmetry 0.0105827152142\n",
      "worst fractal dimension 0.0046574378308\n"
     ]
    }
   ],
   "source": [
    "from sklearn.ensemble import RandomForestClassifier\n",
    "\n",
    "rnd_clf = RandomForestClassifier(n_estimators=500, max_features=10,\n",
    "                                 max_depth=6, max_leaf_nodes=20,\n",
    "                                 \n",
    "                                 n_jobs=-1, random_state=73)\n",
    "rnd_clf.fit(X_train, y_train)\n",
    "\n",
    "# Feature Importance\n",
    "for feature, score in zip(bc['feature_names'], rnd_clf.feature_importances_):\n",
    "    print(feature, score)"
   ]
  },
  {
   "cell_type": "code",
   "execution_count": 30,
   "metadata": {},
   "outputs": [
    {
     "data": {
      "text/plain": [
       "0.95744680851063835"
      ]
     },
     "execution_count": 30,
     "metadata": {},
     "output_type": "execute_result"
    }
   ],
   "source": [
    "rnd_clf.fit(X_train, y_train)\n",
    "y_pred = y_test\n",
    "\n",
    "y_pred_rf = rnd_clf.predict(X_test)\n",
    "np.sum(y_pred == y_pred_rf) / len(y_pred)"
   ]
  },
  {
   "cell_type": "code",
   "execution_count": 31,
   "metadata": {},
   "outputs": [
    {
     "data": {
      "text/plain": [
       "0.95744680851063835"
      ]
     },
     "execution_count": 31,
     "metadata": {},
     "output_type": "execute_result"
    }
   ],
   "source": [
    "from sklearn.metrics import accuracy_score\n",
    "accuracy_score(y_pred, y_pred_rf)"
   ]
  },
  {
   "cell_type": "code",
   "execution_count": null,
   "metadata": {
    "collapsed": true
   },
   "outputs": [],
   "source": []
  }
 ],
 "metadata": {
  "kernelspec": {
   "display_name": "Python 3",
   "language": "python",
   "name": "python3"
  },
  "language_info": {
   "codemirror_mode": {
    "name": "ipython",
    "version": 3
   },
   "file_extension": ".py",
   "mimetype": "text/x-python",
   "name": "python",
   "nbconvert_exporter": "python",
   "pygments_lexer": "ipython3",
   "version": "3.6.3"
  }
 },
 "nbformat": 4,
 "nbformat_minor": 2
}
